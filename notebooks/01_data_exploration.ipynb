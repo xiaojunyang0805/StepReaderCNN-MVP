{
  "cells": [
    {
      "cell_type": "markdown",
      "metadata": {},
      "source": [
        "# StepReaderCNN: Data Exploration\n",
        "\n",
        "This notebook explores the electrochemical sensor signal dataset."
      ]
    },
    {
      "cell_type": "code",
      "execution_count": null,
      "metadata": {},
      "outputs": [],
      "source": [
        "# Import libraries\n",
        "import sys\n",
        "sys.path.append('..')\n",
        "\n",
        "import numpy as np\n",
        "import pandas as pd\n",
        "import matplotlib.pyplot as plt\n",
        "import seaborn as sns\n",
        "from pathlib import Path\n",
        "\n",
        "from src.data.data_loader import SensorDataLoader, create_label_mapping\n",
        "\n",
        "plt.style.use('seaborn-v0_8-darkgrid')\n",
        "sns.set_palette('husl')\n",
        "%matplotlib inline"
      ]
    },
    {
      "cell_type": "markdown",
      "metadata": {},
      "source": [
        "## 1. Load Dataset"
      ]
    },
    {
      "cell_type": "code",
      "execution_count": null,
      "metadata": {},
      "outputs": [],
      "source": [
        "loader = SensorDataLoader('../TestData')\n",
        "data_by_label = loader.load_dataset('*.csv')\n",
        "\n",
        "print(f'Total files: {sum(len(v) for v in data_by_label.values())}')\n",
        "for label in sorted(data_by_label.keys()):\n",
        "    print(f'{label}: {len(data_by_label[label])} samples')"
      ]
    },
    {
      "cell_type": "markdown",
      "metadata": {},
      "source": [
        "## 2. Dataset Summary"
      ]
    },
    {
      "cell_type": "code",
      "execution_count": null,
      "metadata": {},
      "outputs": [],
      "source": [
        "summary_df = loader.get_dataset_summary(data_by_label)\n",
        "summary_df"
      ]
    },
    {
      "cell_type": "markdown",
      "metadata": {},
      "source": [
        "## 3. Class Distribution"
      ]
    },
    {
      "cell_type": "code",
      "execution_count": null,
      "metadata": {},
      "outputs": [],
      "source": [
        "class_counts = summary_df['Label'].value_counts().sort_index()\n",
        "\n",
        "fig, axes = plt.subplots(1, 2, figsize=(14, 5))\n",
        "class_counts.plot(kind='bar', ax=axes[0])\n",
        "axes[0].set_title('Class Distribution')\n",
        "axes[0].set_xlabel('Particle Size')\n",
        "axes[0].set_ylabel('Count')\n",
        "\n",
        "axes[1].pie(class_counts, labels=class_counts.index, autopct='%1.1f%%')\n",
        "axes[1].set_title('Class Distribution (%)')\n",
        "plt.tight_layout()\n",
        "plt.show()"
      ]
    },
    {
      "cell_type": "markdown",
      "metadata": {},
      "source": [
        "## 4. Signal Visualization"
      ]
    },
    {
      "cell_type": "code",
      "execution_count": null,
      "metadata": {},
      "outputs": [],
      "source": [
        "fig, axes = plt.subplots(len(data_by_label), 1, figsize=(15, 4*len(data_by_label)))\n",
        "if len(data_by_label) == 1:\n",
        "    axes = [axes]\n",
        "\n",
        "for idx, (label, samples) in enumerate(sorted(data_by_label.items())):\n",
        "    ax = axes[idx]\n",
        "    for i in range(min(3, len(samples))):\n",
        "        time, current, filename = samples[i]\n",
        "        ax.plot(time, current, alpha=0.7, label=filename)\n",
        "    ax.set_title(f'Sample Signals - {label}')\n",
        "    ax.set_xlabel('Time (ms)')\n",
        "    ax.set_ylabel('Current')\n",
        "    ax.legend()\n",
        "    ax.grid(alpha=0.3)\n",
        "\n",
        "plt.tight_layout()\n",
        "plt.show()"
      ]
    },
    {
      "cell_type": "markdown",
      "metadata": {},
      "source": [
        "## 5. Statistical Analysis"
      ]
    },
    {
      "cell_type": "code",
      "execution_count": null,
      "metadata": {},
      "outputs": [],
      "source": [
        "aggregated = summary_df.groupby('Label').agg({\n",
        "    'Num_Points': ['mean', 'std', 'min', 'max'],\n",
        "    'Current_Mean': ['mean', 'std'],\n",
        "    'Current_Std': 'mean'\n",
        "})\n",
        "print(aggregated)"
      ]
    },
    {
      "cell_type": "markdown",
      "metadata": {},
      "source": [
        "## 6. Data Quality Check"
      ]
    },
    {
      "cell_type": "code",
      "execution_count": null,
      "metadata": {},
      "outputs": [],
      "source": [
        "print('Data Quality Report:')\n",
        "print('='*50)\n",
        "nan_files = summary_df[summary_df['Has_NaN'] == True]\n",
        "if len(nan_files) > 0:\n",
        "    print(f'WARNING: {len(nan_files)} files with NaN')\n",
        "else:\n",
        "    print('No NaN values detected')\n",
        "\n",
        "print(f'\nSampling rate: {summary_df[\"Sampling_Rate_Hz\"].mean():.2f} Hz')\n",
        "print('='*50)"
      ]
    },
    {
      "cell_type": "markdown",
      "metadata": {},
      "source": [
        "## 7. Save Report"
      ]
    },
    {
      "cell_type": "code",
      "execution_count": null,
      "metadata": {},
      "outputs": [],
      "source": [
        "summary_df.to_csv('../outputs/reports/data_summary.csv', index=False)\n",
        "print('Summary saved to outputs/reports/data_summary.csv')"
      ]
    }
  ],
  "metadata": {
    "kernelspec": {
      "display_name": "Python 3",
      "language": "python",
      "name": "python3"
    },
    "language_info": {
      "name": "python",
      "version": "3.8.0"
    }
  },
  "nbformat": 4,
  "nbformat_minor": 4
}